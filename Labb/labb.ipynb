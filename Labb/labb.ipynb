{
 "cells": [
  {
   "cell_type": "markdown",
   "metadata": {},
   "source": [
    "# Uppgift 1 - uppvärmning covid-19 data"
   ]
  },
  {
   "cell_type": "markdown",
   "metadata": {},
   "source": [
    "Importera bibliotek"
   ]
  },
  {
   "cell_type": "code",
   "execution_count": 105,
   "metadata": {},
   "outputs": [],
   "source": [
    "import pandas as pd\n",
    "import seaborn as sns\n",
    "import plotly.express as px\n",
    "import matplotlib.pyplot as plt\n",
    "import plotly.graph_objs as go\n",
    "\n"
   ]
  },
  {
   "cell_type": "markdown",
   "metadata": {},
   "source": [
    "Läs in Datan"
   ]
  },
  {
   "cell_type": "code",
   "execution_count": 106,
   "metadata": {},
   "outputs": [],
   "source": [
    "covid = pd.read_excel(\"Folkhalsomyndigheten_Covid19.xlsx\", sheet_name=\"Veckodata Riket\")\n",
    "\n",
    "# Sheet_name argument för att få fram bladet \"Veckodata Riket\"\n",
    "\n"
   ]
  },
  {
   "cell_type": "markdown",
   "metadata": {},
   "source": [
    "Data analys"
   ]
  },
  {
   "cell_type": "code",
   "execution_count": null,
   "metadata": {},
   "outputs": [],
   "source": [
    "covid.head() # Genererar dem 5 första raderna"
   ]
  },
  {
   "cell_type": "code",
   "execution_count": null,
   "metadata": {},
   "outputs": [],
   "source": [
    "covid.tail() # Genererar dem 5 sista raderna"
   ]
  },
  {
   "cell_type": "code",
   "execution_count": 395,
   "metadata": {},
   "outputs": [
    {
     "data": {
      "text/plain": [
       "(2900, 15)"
      ]
     },
     "execution_count": 395,
     "metadata": {},
     "output_type": "execute_result"
    }
   ],
   "source": [
    "covid.shape # Storleken på datan. 142 rader, 13 kolumner"
   ]
  },
  {
   "cell_type": "code",
   "execution_count": null,
   "metadata": {},
   "outputs": [],
   "source": [
    "covid.info() # Få information om vilka typer det finns i datan"
   ]
  },
  {
   "cell_type": "code",
   "execution_count": null,
   "metadata": {},
   "outputs": [],
   "source": [
    "covid.isnull().sum() # Antal saknade värden för varje kolumn"
   ]
  },
  {
   "cell_type": "code",
   "execution_count": null,
   "metadata": {},
   "outputs": [],
   "source": [
    "covid.describe() # Statistisk sammanfattning, info om medelvärden,minimum,maximum"
   ]
  },
  {
   "cell_type": "code",
   "execution_count": 34,
   "metadata": {},
   "outputs": [
    {
     "data": {
      "text/plain": [
       "RangeIndex(start=0, stop=142, step=1)"
      ]
     },
     "execution_count": 34,
     "metadata": {},
     "output_type": "execute_result"
    }
   ],
   "source": [
    "covid.index # Index information(raderna) om datan"
   ]
  },
  {
   "cell_type": "code",
   "execution_count": null,
   "metadata": {},
   "outputs": [],
   "source": [
    "covid.columns # Visar alla kolumner som finns i datan"
   ]
  },
  {
   "cell_type": "code",
   "execution_count": null,
   "metadata": {},
   "outputs": [],
   "source": [
    "covid.value_counts() # Antal gånger ett värde finns i en kolumn \n",
    "covid.value_counts(\"år\") "
   ]
  },
  {
   "cell_type": "markdown",
   "metadata": {},
   "source": [
    "Slå ihop kolumnerna år och veckonummer"
   ]
  },
  {
   "cell_type": "code",
   "execution_count": null,
   "metadata": {},
   "outputs": [],
   "source": [
    "covid[\"Vecka\"] = covid[\"år\"].astype(str) + \"v\" + covid[\"veckonummer\"].astype(str)\n",
    "covid.head()\n",
    "# Ändrar tal till sträng för att kunna slå ihop kolumnen\n",
    "# Inplace=True parametern behövs ej, Dataframe ändras direkt när man använder '=' operatorn"
   ]
  },
  {
   "cell_type": "markdown",
   "metadata": {},
   "source": [
    "Visualisering med plotly "
   ]
  },
  {
   "cell_type": "code",
   "execution_count": null,
   "metadata": {},
   "outputs": [],
   "source": [
    "fig = px.line(covid, x= \"Vecka\", y= \"Antal_avlidna_vecka\", title= \"Antal avlidna fall per vecka\")\n",
    "fig.write_html(\"Visualiseringar/plotly_graf.html\") # Exporterar till mappen \"Visualiseringar\" som html- fil\n",
    "fig.show()"
   ]
  },
  {
   "cell_type": "code",
   "execution_count": null,
   "metadata": {},
   "outputs": [],
   "source": [
    "fig = px.line(covid, x=\"Vecka\", y=\"Antal_fall_vecka\", title=\"Antal fall per vecka\")\n",
    "fig.write_html(\"Visualiseringar/plotly_graf.html\")\n",
    "fig.show()"
   ]
  },
  {
   "cell_type": "code",
   "execution_count": null,
   "metadata": {},
   "outputs": [],
   "source": [
    "fig = px.line(covid, x=covid[\"Vecka\"], y=[covid[\"Antal_fall_vecka\"], covid[\"Antal_avlidna_vecka\"]],\n",
    "              labels={\"value\": \"Fall/Avlidna per vecka\", \"variable\": \"Kolumner\"},\n",
    "              title=\"Antal Nya Fall och Antal Avlidna per Vecka\")\n",
    "fig.write_html(\"Visualiseringar/plotly_graf.html\")\n",
    "fig.show()"
   ]
  },
  {
   "cell_type": "code",
   "execution_count": null,
   "metadata": {},
   "outputs": [],
   "source": [
    "fig = px.line(covid, x= \"Vecka\", y= \"Kum_antal_fall\")\n",
    "fig.write_html(\"Visualiseringar/plotly_graf.html\")\n",
    "fig.show()"
   ]
  },
  {
   "cell_type": "markdown",
   "metadata": {},
   "source": [
    " Seaborn\n"
   ]
  },
  {
   "cell_type": "code",
   "execution_count": null,
   "metadata": {},
   "outputs": [],
   "source": [
    "\n",
    "sns.set(rc={'figure.figsize':(25, 10)})\n",
    "\n",
    "sns.lineplot(data=covid, x=\"Vecka\", y=\"Antal_avlidna_vecka\")\n",
    "plt.xticks(rotation=80)\n",
    "\n",
    " ## Exporterar till mappen \"Visualiseringar\" som png fil\n",
    "plt.savefig(\"Visualiseringar/seaborn_graf.png\", facecolor='white', bbox_inches='tight')\n",
    "\n",
    "plt.show()\n",
    "\n",
    "\n"
   ]
  },
  {
   "cell_type": "code",
   "execution_count": null,
   "metadata": {},
   "outputs": [],
   "source": [
    "sns.set(rc={'figure.figsize':(25, 10)})\n",
    "sns.lineplot(data=covid, x=\"Vecka\", y=\"Antal_fall_vecka\")\n",
    "plt.xticks(rotation=80)\n",
    "\n",
    "\n",
    "plt.tight_layout()\n",
    "\n",
    "plt.savefig(\"Visualiseringar/seaborn_graf.png\", facecolor='white', bbox_inches='tight')\n",
    "\n",
    "\n"
   ]
  },
  {
   "cell_type": "code",
   "execution_count": null,
   "metadata": {},
   "outputs": [],
   "source": [
    "\n",
    "plt.figure(figsize=(25, 10)) \n",
    "\n",
    "sns.lineplot(data=covid, x=\"Vecka\", y=\"Antal_avlidna_vecka\", label=\"Antal Avlidna\")\n",
    "sns.lineplot(data=covid, x=\"Vecka\", y=\"Antal_fall_vecka\", label=\"Antal Nya Fall\")\n",
    "\n",
    "plt.xticks(rotation=80) \n",
    "\n",
    "\n",
    "plt.savefig(\"Visualiseringar/seaborn_graf.png\", facecolor='white', bbox_inches='tight')\n",
    "\n",
    "plt.show()\n",
    "\n"
   ]
  },
  {
   "cell_type": "code",
   "execution_count": null,
   "metadata": {},
   "outputs": [],
   "source": [
    "sns.set(rc={'figure.figsize':(25, 10)})  \n",
    "sns.lineplot(data=covid, x=\"Vecka\", y=\"Kum_antal_fall\")\n",
    "\n",
    "plt.xticks(rotation=80)  \n",
    "plt.savefig(\"Visualiseringar/seaborn_graf.png\", facecolor='white', bbox_inches='tight')\n",
    "\n",
    "plt.show()"
   ]
  },
  {
   "cell_type": "markdown",
   "metadata": {},
   "source": [
    "# Uppgift 2 - uppvärmning vaccindata\n"
   ]
  },
  {
   "cell_type": "code",
   "execution_count": null,
   "metadata": {},
   "outputs": [],
   "source": [
    "df = pd.read_excel(\"Folkhalsomyndigheten_Covid19_Vaccine.xlsx\", sheet_name=\"Vaccinerade kommun och ålder\")\n",
    "df.head()\n"
   ]
  },
  {
   "cell_type": "markdown",
   "metadata": {},
   "source": [
    "a) Hur många län finns representerade i datasetet?"
   ]
  },
  {
   "cell_type": "code",
   "execution_count": 265,
   "metadata": {},
   "outputs": [
    {
     "name": "stdout",
     "output_type": "stream",
     "text": [
      "Det finns 21 län representerad i datasetet\n"
     ]
    }
   ],
   "source": [
    "antal_län = df[\"Län_namn\"].nunique()\n",
    "print(f\"Det finns {antal_län} län representerad i datasetet\")"
   ]
  },
  {
   "cell_type": "markdown",
   "metadata": {},
   "source": [
    "b) Hur många kommuner finns representerade i datasetet?"
   ]
  },
  {
   "cell_type": "code",
   "execution_count": 444,
   "metadata": {},
   "outputs": [
    {
     "name": "stdout",
     "output_type": "stream",
     "text": [
      "Det finns totalt 290 kommuner presenterad i datasetet\n"
     ]
    }
   ],
   "source": [
    "antal_komun = df[\"Kommun_namn\"].nunique()\n",
    "print(f\"Det finns totalt {antal_komun} kommuner presenterad i datasetet\")\n",
    "\n"
   ]
  },
  {
   "cell_type": "markdown",
   "metadata": {},
   "source": [
    "c) Hur stor är befolkningen som är representerad i datasetet?\n"
   ]
  },
  {
   "cell_type": "code",
   "execution_count": null,
   "metadata": {},
   "outputs": [],
   "source": [
    "total_befolkning = df[\"Befolkning\"].sum()\n",
    "print(f\"Total befolkning i datasetet: {total_befolkning}\")\n",
    "\n"
   ]
  },
  {
   "cell_type": "markdown",
   "metadata": {},
   "source": [
    "d) Beräkna hur många barn under 18 år det finns i Sverige baserat på det här datasetet. Du får leta upp\n",
    "statistik på hur stor totala befolkningen är i Sverige"
   ]
  },
  {
   "cell_type": "code",
   "execution_count": 23,
   "metadata": {},
   "outputs": [
    {
     "name": "stdout",
     "output_type": "stream",
     "text": [
      "Antal barn under 18 år i Sverige är: 745370\n",
      "Andelen barn under 18 år i förhållande till den totala befolkningen är: 7.08 %\n"
     ]
    }
   ],
   "source": [
    "sverige_befolkning_totalt = 10521556\n",
    "\n",
    "ålder_under_18= df[df['Ålder'].isin(['12-15', '16-17'])]\n",
    "\n",
    "\n",
    "befolkning_under_18 = ålder_under_18['Befolkning'].sum()\n",
    "\n",
    "\n",
    "andel_barn_under_18 = (befolkning_under_18 / sverige_befolkning_totalt) * 100  \n",
    "\n",
    "print(\"Antal barn under 18 år i Sverige är:\", befolkning_under_18)\n",
    "print(\"Andelen barn under 18 år i förhållande till den totala befolkningen är:\", round(andel_barn_under_18, 2), \"%\")\n",
    "\n",
    "#Källa: https://www.scb.se/hitta-statistik/sverige-i-siffror/manniskorna-i-sverige/sveriges-befolkning/\n"
   ]
  },
  {
   "cell_type": "code",
   "execution_count": null,
   "metadata": {},
   "outputs": [],
   "source": [
    "df.groupby([\"Ålder\"])[\"Befolkning\"].sum()"
   ]
  },
  {
   "cell_type": "markdown",
   "metadata": {},
   "source": [
    "e) Rita ett diagram som visar på åldersfördelningen av Sveriges befolkning"
   ]
  },
  {
   "cell_type": "code",
   "execution_count": null,
   "metadata": {},
   "outputs": [],
   "source": [
    "grupperad_data = df.groupby(\"Ålder\")[\"Befolkning\"].sum().reset_index()\n",
    "\n",
    "fig = px.bar(grupperad_data, x=\"Ålder\", y=\"Befolkning\", title=f\"Åldersfördelning av Sveriges Befolkning\")\n",
    "fig.show()\n",
    "\n",
    "\n",
    "\n",
    "\n"
   ]
  },
  {
   "cell_type": "markdown",
   "metadata": {},
   "source": [
    "f) Rita stapeldiagram för andel med minst 1 dos per län, andel två doser per län och andel tre doser per\n",
    "län\n"
   ]
  },
  {
   "cell_type": "code",
   "execution_count": null,
   "metadata": {},
   "outputs": [],
   "source": [
    "fig = go.Figure()\n",
    "\n",
    "fig.add_trace(go.Bar(\n",
    "    x=df['Kommun_namn'], \n",
    "    y=df['Andel minst 1 dos'],\n",
    "    name='Minst en dos'\n",
    "))\n",
    "\n",
    "\n",
    "fig.add_trace(go.Bar(\n",
    "    x=df['Kommun_namn'], \n",
    "    y=df['Andel minst 2 doser'],\n",
    "    name='Två doser'\n",
    "))\n",
    "\n",
    "fig.add_trace(go.Bar(\n",
    "    x=df['Kommun_namn'], \n",
    "    y=df['Andel 3 doser'],\n",
    "    name='Tre doser'\n",
    "))\n",
    "\n",
    "\n",
    "fig.update_layout(\n",
    "    barmode='stack',\n",
    "    title='Vaccinationsandel-kommun',\n",
    "    xaxis_title='Kommun',\n",
    "    \n",
    ")\n",
    "fig.write_html(\"Visualiseringar/plotly_graf.html\")\n",
    "fig.show()\n"
   ]
  },
  {
   "cell_type": "markdown",
   "metadata": {},
   "source": [
    "f) Tag Västra Götalands län och Stockholms län och rita diagram över andelen vaccinerade med minst 1 dos,\n",
    "två doser, tre doser och fyra doser."
   ]
  },
  {
   "cell_type": "code",
   "execution_count": null,
   "metadata": {},
   "outputs": [],
   "source": [
    "    # Filtrerar datan för att få fram dem specifika länen\n",
    "län_data = df[df['Län_namn'].isin(['Västra Götalands län', 'Stockholms län'])]\n",
    "\n",
    "fig = go.Figure()\n",
    "\n",
    "    # Lista som innehåller färger,ska tilldelas till dem fyra staplarna\n",
    "färger_stapel = ['blue', 'green', 'orange', 'red'] \n",
    "\n",
    "fig.add_trace(go.Bar(\n",
    "    x=län_data['Län_namn'],\n",
    "    y=län_data['Andel minst 1 dos'],\n",
    "    name='Minst 1 dos',\n",
    "    marker=dict(color=färger_stapel[0])\n",
    "))\n",
    "\n",
    "fig.add_trace(go.Bar(\n",
    "    x=län_data['Län_namn'],\n",
    "    y=län_data['Andel minst 2 doser'],\n",
    "    name='Minst 2 doser',\n",
    "    marker=dict(color=färger_stapel[1])\n",
    "))\n",
    "\n",
    "fig.add_trace(go.Bar(\n",
    "    x=län_data['Län_namn'],\n",
    "    y=län_data['Andel 3 doser'],\n",
    "    name='3 doser',\n",
    "    marker=dict(color=färger_stapel[2])\n",
    "))\n",
    "\n",
    "fig.add_trace(go.Bar(\n",
    "    x=län_data['Län_namn'],\n",
    "    y=län_data['Andel 4 doser'],\n",
    "    name='4 doser',\n",
    "    marker=dict(color=färger_stapel[3])\n",
    "))\n",
    "\n",
    "\n",
    "fig.write_html(\"Visualiseringar/plotly_graf.html\")\n",
    "fig.show()\n",
    "\n",
    " \n",
    "\n",
    "\n",
    "\n"
   ]
  },
  {
   "cell_type": "markdown",
   "metadata": {},
   "source": [
    "# Uppgift 3-KPI"
   ]
  },
  {
   "cell_type": "markdown",
   "metadata": {},
   "source": [
    "KPI 1: Identifierar dagen med flest intensiv vårdade. Det är ett viktigt mått på belastningen på vården och kan ge insikter i vilka perioder under pandemin som krävde störst resurser och vårdkapacitet."
   ]
  },
  {
   "cell_type": "code",
   "execution_count": 57,
   "metadata": {},
   "outputs": [],
   "source": [
    "intensiv_vårdade = pd.read_excel(\"Folkhalsomyndigheten_Covid19.xlsx\", sheet_name=\"Antal intensivvårdade per dag\")"
   ]
  },
  {
   "cell_type": "code",
   "execution_count": null,
   "metadata": {},
   "outputs": [],
   "source": [
    "intensiv_vårdade.head()"
   ]
  },
  {
   "cell_type": "code",
   "execution_count": 80,
   "metadata": {},
   "outputs": [
    {
     "name": "stdout",
     "output_type": "stream",
     "text": [
      "Högsta antal intensivvårdade: 49\n",
      "Datum för högsta intensivvårdade: 2020-04-22 00:00:00\n"
     ]
    }
   ],
   "source": [
    "max_dag = intensiv_vårdade.groupby([\"Datum_vårdstart\"])[\"Antal_intensivvårdade\"].max().reset_index()\n",
    "sorterat = max_dag.sort_values(by='Antal_intensivvårdade', ascending=False)\n",
    "max_intensiv_vård = sorterat.iloc[0]['Antal_intensivvårdade']\n",
    "datum_max = sorterat.iloc[0]['Datum_vårdstart']\n",
    "\n",
    "print(f\"Högsta antal intensivvårdade: {max_intensiv_vård}\")\n",
    "print(f\"Datum för högsta intensivvårdade: {datum_max}\")\n",
    "\n",
    "\n",
    "\n",
    "\n",
    "\n"
   ]
  },
  {
   "cell_type": "markdown",
   "metadata": {},
   "source": [
    "KPI 2: Totalt avlidna per dag. Att analysera antalet avlidna per dag kan ge viktiga insikter i hur allvarlig situationen är och hur den utvecklas över tiden, i denna uppgift kollar jag efter högsta dödsfallet."
   ]
  },
  {
   "cell_type": "code",
   "execution_count": null,
   "metadata": {},
   "outputs": [],
   "source": [
    "avlidna_dag = pd.read_excel(\"Folkhalsomyndigheten_Covid19.xlsx\", sheet_name=\"Antal avlidna per dag\")\n",
    "\n",
    "avlidna_dag.head()\n",
    "\n"
   ]
  },
  {
   "cell_type": "code",
   "execution_count": null,
   "metadata": {},
   "outputs": [],
   "source": [
    "resultat = avlidna_dag.groupby(\"Datum_avliden\")[\"Antal_avlidna\"].max()\n",
    "max_index = resultat.idxmax()\n",
    "\n",
    "print(f\"Högsta antal avlidna: {resultat[max_index]} på datum: {max_index}\")\n",
    "\n",
    "\n",
    "\n",
    "\n",
    "\n",
    "\n"
   ]
  },
  {
   "cell_type": "markdown",
   "metadata": {},
   "source": [
    "KPI 3: Totalt antal avlidna per region. Kollar efter vilken region som som var mest drabbad och vilken som var minst drabbad. Det ger en tydlig indikation på pandemins effekter på olika geografiska områden och kan vara väsentlig för att förstå spridningen av sjukdomen."
   ]
  },
  {
   "cell_type": "code",
   "execution_count": 100,
   "metadata": {},
   "outputs": [],
   "source": [
    "avlidna_region = pd.read_excel(\"Folkhalsomyndigheten_Covid19.xlsx\", sheet_name=\"Totalt antal per region\")"
   ]
  },
  {
   "cell_type": "code",
   "execution_count": null,
   "metadata": {},
   "outputs": [],
   "source": [
    "avlidna_region.head()"
   ]
  },
  {
   "cell_type": "code",
   "execution_count": null,
   "metadata": {},
   "outputs": [],
   "source": [
    "total_avlidna_region = avlidna_region.groupby('Region')['Totalt_antal_avlidna'].sum()\n",
    "\n",
    "region_flest_avlidna = total_avlidna_region.idxmax()\n",
    "max_avlidna = total_avlidna_region.max()\n",
    "\n",
    "region_minst_avlidna = total_avlidna_region.idxmin()\n",
    "min_avlidna = total_avlidna_region.min()\n",
    "\n",
    "procentuell_skillnad = ((max_avlidna - min_avlidna) / min_avlidna) * 100\n",
    "\n",
    "print(f\"Region med flest avlidna: {region_flest_avlidna} ({max_avlidna} avlidna)\")\n",
    "print(f\"Region med minst avlidna: {region_minst_avlidna} ({min_avlidna} avlidna)\")\n",
    "print(f\"Procentuell skillnad: {procentuell_skillnad:.2f}%\")\n"
   ]
  }
 ],
 "metadata": {
  "kernelspec": {
   "display_name": "Python 3",
   "language": "python",
   "name": "python3"
  },
  "language_info": {
   "codemirror_mode": {
    "name": "ipython",
    "version": 3
   },
   "file_extension": ".py",
   "mimetype": "text/x-python",
   "name": "python",
   "nbconvert_exporter": "python",
   "pygments_lexer": "ipython3",
   "version": "3.11.5"
  }
 },
 "nbformat": 4,
 "nbformat_minor": 2
}
