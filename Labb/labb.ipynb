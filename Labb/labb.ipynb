{
 "cells": [
  {
   "cell_type": "markdown",
   "metadata": {},
   "source": [
    "# Uppgift 1 - uppvärmning covid-19 data"
   ]
  },
  {
   "cell_type": "markdown",
   "metadata": {},
   "source": [
    "Importera bibliotek"
   ]
  },
  {
   "cell_type": "code",
   "execution_count": 6,
   "metadata": {},
   "outputs": [],
   "source": [
    "import pandas as pd\n",
    "import seaborn as sns\n",
    "import plotly.express as px\n",
    "import matplotlib.pyplot as plt\n",
    "import plotly.graph_objs as go\n",
    "\n"
   ]
  },
  {
   "cell_type": "markdown",
   "metadata": {},
   "source": [
    "Läs in Datan"
   ]
  },
  {
   "cell_type": "code",
   "execution_count": 2,
   "metadata": {},
   "outputs": [],
   "source": [
    "covid = pd.read_excel(\"Folkhalsomyndigheten_Covid19.xlsx\", sheet_name=\"Veckodata Riket\")\n",
    "\n",
    "# Sheet_name argument för att få fram bladet \"Veckodata Riket\"\n",
    "\n"
   ]
  },
  {
   "cell_type": "markdown",
   "metadata": {},
   "source": [
    "Data analys"
   ]
  },
  {
   "cell_type": "code",
   "execution_count": null,
   "metadata": {},
   "outputs": [],
   "source": [
    "covid.head() # Genererar dem 5 första raderna"
   ]
  },
  {
   "cell_type": "code",
   "execution_count": null,
   "metadata": {},
   "outputs": [],
   "source": [
    "covid.tail() # Genererar dem 5 sista raderna"
   ]
  },
  {
   "cell_type": "code",
   "execution_count": 395,
   "metadata": {},
   "outputs": [
    {
     "data": {
      "text/plain": [
       "(2900, 15)"
      ]
     },
     "execution_count": 395,
     "metadata": {},
     "output_type": "execute_result"
    }
   ],
   "source": [
    "covid.shape # Storleken på datan. 142 rader, 13 kolumner"
   ]
  },
  {
   "cell_type": "code",
   "execution_count": null,
   "metadata": {},
   "outputs": [],
   "source": [
    "covid.info() # Få information om vilka typer det finns i datan"
   ]
  },
  {
   "cell_type": "code",
   "execution_count": null,
   "metadata": {},
   "outputs": [],
   "source": [
    "covid.isnull().sum() # Antal saknade värden för varje kolumn"
   ]
  },
  {
   "cell_type": "code",
   "execution_count": null,
   "metadata": {},
   "outputs": [],
   "source": [
    "covid.describe() # Statistisk sammanfattning, info om medelvärden,minimum,maximum"
   ]
  },
  {
   "cell_type": "code",
   "execution_count": 34,
   "metadata": {},
   "outputs": [
    {
     "data": {
      "text/plain": [
       "RangeIndex(start=0, stop=142, step=1)"
      ]
     },
     "execution_count": 34,
     "metadata": {},
     "output_type": "execute_result"
    }
   ],
   "source": [
    "covid.index # Index information(raderna) om datan"
   ]
  },
  {
   "cell_type": "code",
   "execution_count": null,
   "metadata": {},
   "outputs": [],
   "source": [
    "covid.columns # Visar alla kolumner som finns i datan"
   ]
  },
  {
   "cell_type": "code",
   "execution_count": null,
   "metadata": {},
   "outputs": [],
   "source": [
    "covid.value_counts() # Antal gånger ett värde finns i en kolumn \n",
    "covid.value_counts(\"år\") "
   ]
  },
  {
   "cell_type": "markdown",
   "metadata": {},
   "source": [
    "Slå ihop kolumnerna år och veckonummer"
   ]
  },
  {
   "cell_type": "code",
   "execution_count": null,
   "metadata": {},
   "outputs": [],
   "source": [
    "covid[\"Vecka\"] = covid[\"år\"].astype(str) + \"v\" + covid[\"veckonummer\"].astype(str)\n",
    "covid.head()\n",
    "# Ändrar tal till sträng för att kunna slå ihop kolumnen\n",
    "# Inplace=True parametern behövs ej, Dataframe ändras direkt när man använder '=' operatorn"
   ]
  },
  {
   "cell_type": "markdown",
   "metadata": {},
   "source": [
    "Visualisering med plotly "
   ]
  },
  {
   "cell_type": "code",
   "execution_count": null,
   "metadata": {},
   "outputs": [],
   "source": [
    "fig = px.line(covid, x= \"Vecka\", y= \"Antal_avlidna_vecka\", title= \"Antal avlidna fall per vecka\")\n",
    "fig.write_html(\"Visualiseringar/plotly_graf.html\") # Exporterar till mappen \"Visualiseringar\" som html- fil\n",
    "fig.show()"
   ]
  },
  {
   "cell_type": "code",
   "execution_count": null,
   "metadata": {},
   "outputs": [],
   "source": [
    "fig = px.line(covid, x=\"Vecka\", y=\"Antal_fall_vecka\", title=\"Antal fall per vecka\")\n",
    "fig.write_html(\"Visualiseringar/plotly_graf.html\")\n",
    "fig.show()"
   ]
  },
  {
   "cell_type": "code",
   "execution_count": null,
   "metadata": {},
   "outputs": [],
   "source": [
    "fig = px.line(covid, x=covid[\"Vecka\"], y=[covid[\"Antal_fall_vecka\"], covid[\"Antal_avlidna_vecka\"]],\n",
    "              labels={\"value\": \"Fall/Avlidna per vecka\", \"variable\": \"Kolumner\"},\n",
    "              title=\"Antal Nya Fall och Antal Avlidna per Vecka\")\n",
    "fig.write_html(\"Visualiseringar/plotly_graf.html\")\n",
    "fig.show()"
   ]
  },
  {
   "cell_type": "code",
   "execution_count": null,
   "metadata": {},
   "outputs": [],
   "source": [
    "fig = px.line(covid, x= \"Vecka\", y= \"Kum_antal_fall\")\n",
    "fig.write_html(\"Visualiseringar/plotly_graf.html\")\n",
    "fig.show()"
   ]
  },
  {
   "cell_type": "markdown",
   "metadata": {},
   "source": [
    " Seaborn\n"
   ]
  },
  {
   "cell_type": "code",
   "execution_count": null,
   "metadata": {},
   "outputs": [],
   "source": [
    "\n",
    "sns.set(rc={'figure.figsize':(25, 10)})\n",
    "\n",
    "sns.lineplot(data=covid, x=\"Vecka\", y=\"Antal_avlidna_vecka\")\n",
    "plt.xticks(rotation=80)\n",
    "\n",
    " ## Exporterar till mappen \"Visualiseringar\" som png fil\n",
    "plt.savefig(\"Visualiseringar/seaborn_graf.png\", facecolor='white', bbox_inches='tight')\n",
    "\n",
    "plt.show()\n",
    "\n",
    "\n"
   ]
  },
  {
   "cell_type": "code",
   "execution_count": null,
   "metadata": {},
   "outputs": [],
   "source": [
    "sns.set(rc={'figure.figsize':(25, 10)})\n",
    "sns.lineplot(data=covid, x=\"Vecka\", y=\"Antal_fall_vecka\")\n",
    "plt.xticks(rotation=80)\n",
    "\n",
    "\n",
    "plt.tight_layout()\n",
    "\n",
    "plt.savefig(\"Visualiseringar/seaborn_graf.png\", facecolor='white', bbox_inches='tight')\n",
    "\n",
    "\n"
   ]
  },
  {
   "cell_type": "code",
   "execution_count": null,
   "metadata": {},
   "outputs": [],
   "source": [
    "\n",
    "plt.figure(figsize=(25, 10)) \n",
    "\n",
    "sns.lineplot(data=covid, x=\"Vecka\", y=\"Antal_avlidna_vecka\", label=\"Antal Avlidna\")\n",
    "sns.lineplot(data=covid, x=\"Vecka\", y=\"Antal_fall_vecka\", label=\"Antal Nya Fall\")\n",
    "\n",
    "plt.xticks(rotation=80) \n",
    "\n",
    "\n",
    "plt.savefig(\"Visualiseringar/seaborn_graf.png\", facecolor='white', bbox_inches='tight')\n",
    "\n",
    "plt.show()\n",
    "\n"
   ]
  },
  {
   "cell_type": "code",
   "execution_count": null,
   "metadata": {},
   "outputs": [],
   "source": [
    "sns.set(rc={'figure.figsize':(25, 10)})  \n",
    "sns.lineplot(data=covid, x=\"Vecka\", y=\"Kum_antal_fall\")\n",
    "\n",
    "plt.xticks(rotation=80)  \n",
    "plt.savefig(\"Visualiseringar/seaborn_graf.png\", facecolor='white', bbox_inches='tight')\n",
    "\n",
    "plt.show()"
   ]
  },
  {
   "cell_type": "markdown",
   "metadata": {},
   "source": [
    "# Uppgift 2 - uppvärmning vaccindata\n"
   ]
  },
  {
   "cell_type": "code",
   "execution_count": 4,
   "metadata": {},
   "outputs": [
    {
     "data": {
      "text/html": [
       "<div>\n",
       "<style scoped>\n",
       "    .dataframe tbody tr th:only-of-type {\n",
       "        vertical-align: middle;\n",
       "    }\n",
       "\n",
       "    .dataframe tbody tr th {\n",
       "        vertical-align: top;\n",
       "    }\n",
       "\n",
       "    .dataframe thead th {\n",
       "        text-align: right;\n",
       "    }\n",
       "</style>\n",
       "<table border=\"1\" class=\"dataframe\">\n",
       "  <thead>\n",
       "    <tr style=\"text-align: right;\">\n",
       "      <th></th>\n",
       "      <th>Län</th>\n",
       "      <th>Län_namn</th>\n",
       "      <th>Kommun</th>\n",
       "      <th>Kommun_namn</th>\n",
       "      <th>Ålder</th>\n",
       "      <th>Befolkning</th>\n",
       "      <th>Antal minst 1 dos</th>\n",
       "      <th>Antal minst 2 doser</th>\n",
       "      <th>Antal 3 doser</th>\n",
       "      <th>Antal 4 doser</th>\n",
       "      <th>Andel minst 1 dos</th>\n",
       "      <th>Andel minst 2 doser</th>\n",
       "      <th>Andel 3 doser</th>\n",
       "      <th>Andel 4 doser</th>\n",
       "    </tr>\n",
       "  </thead>\n",
       "  <tbody>\n",
       "    <tr>\n",
       "      <th>0</th>\n",
       "      <td>1</td>\n",
       "      <td>Stockholms län</td>\n",
       "      <td>114</td>\n",
       "      <td>Upplands Väsby</td>\n",
       "      <td>12-15</td>\n",
       "      <td>2422</td>\n",
       "      <td>1206</td>\n",
       "      <td>1046</td>\n",
       "      <td>NaN</td>\n",
       "      <td>NaN</td>\n",
       "      <td>0.497936</td>\n",
       "      <td>0.431874</td>\n",
       "      <td>NaN</td>\n",
       "      <td>NaN</td>\n",
       "    </tr>\n",
       "    <tr>\n",
       "      <th>1</th>\n",
       "      <td>1</td>\n",
       "      <td>Stockholms län</td>\n",
       "      <td>114</td>\n",
       "      <td>Upplands Väsby</td>\n",
       "      <td>16-17</td>\n",
       "      <td>1203</td>\n",
       "      <td>839</td>\n",
       "      <td>755</td>\n",
       "      <td>NaN</td>\n",
       "      <td>NaN</td>\n",
       "      <td>0.697423</td>\n",
       "      <td>0.627598</td>\n",
       "      <td>NaN</td>\n",
       "      <td>NaN</td>\n",
       "    </tr>\n",
       "    <tr>\n",
       "      <th>2</th>\n",
       "      <td>1</td>\n",
       "      <td>Stockholms län</td>\n",
       "      <td>114</td>\n",
       "      <td>Upplands Väsby</td>\n",
       "      <td>18-29</td>\n",
       "      <td>6692</td>\n",
       "      <td>4887</td>\n",
       "      <td>4469</td>\n",
       "      <td>1959.0</td>\n",
       "      <td>NaN</td>\n",
       "      <td>0.730275</td>\n",
       "      <td>0.667812</td>\n",
       "      <td>0.292738</td>\n",
       "      <td>NaN</td>\n",
       "    </tr>\n",
       "    <tr>\n",
       "      <th>3</th>\n",
       "      <td>1</td>\n",
       "      <td>Stockholms län</td>\n",
       "      <td>114</td>\n",
       "      <td>Upplands Väsby</td>\n",
       "      <td>30-39</td>\n",
       "      <td>7332</td>\n",
       "      <td>5542</td>\n",
       "      <td>5240</td>\n",
       "      <td>2878.0</td>\n",
       "      <td>NaN</td>\n",
       "      <td>0.755865</td>\n",
       "      <td>0.714675</td>\n",
       "      <td>0.392526</td>\n",
       "      <td>NaN</td>\n",
       "    </tr>\n",
       "    <tr>\n",
       "      <th>4</th>\n",
       "      <td>1</td>\n",
       "      <td>Stockholms län</td>\n",
       "      <td>114</td>\n",
       "      <td>Upplands Väsby</td>\n",
       "      <td>40-49</td>\n",
       "      <td>6946</td>\n",
       "      <td>5592</td>\n",
       "      <td>5429</td>\n",
       "      <td>3719.0</td>\n",
       "      <td>NaN</td>\n",
       "      <td>0.805068</td>\n",
       "      <td>0.781601</td>\n",
       "      <td>0.535416</td>\n",
       "      <td>NaN</td>\n",
       "    </tr>\n",
       "  </tbody>\n",
       "</table>\n",
       "</div>"
      ],
      "text/plain": [
       "   Län        Län_namn  Kommun     Kommun_namn  Ålder  Befolkning  \\\n",
       "0    1  Stockholms län     114  Upplands Väsby  12-15        2422   \n",
       "1    1  Stockholms län     114  Upplands Väsby  16-17        1203   \n",
       "2    1  Stockholms län     114  Upplands Väsby  18-29        6692   \n",
       "3    1  Stockholms län     114  Upplands Väsby  30-39        7332   \n",
       "4    1  Stockholms län     114  Upplands Väsby  40-49        6946   \n",
       "\n",
       "   Antal minst 1 dos  Antal minst 2 doser  Antal 3 doser  Antal 4 doser  \\\n",
       "0               1206                 1046            NaN            NaN   \n",
       "1                839                  755            NaN            NaN   \n",
       "2               4887                 4469         1959.0            NaN   \n",
       "3               5542                 5240         2878.0            NaN   \n",
       "4               5592                 5429         3719.0            NaN   \n",
       "\n",
       "   Andel minst 1 dos  Andel minst 2 doser  Andel 3 doser  Andel 4 doser  \n",
       "0           0.497936             0.431874            NaN            NaN  \n",
       "1           0.697423             0.627598            NaN            NaN  \n",
       "2           0.730275             0.667812       0.292738            NaN  \n",
       "3           0.755865             0.714675       0.392526            NaN  \n",
       "4           0.805068             0.781601       0.535416            NaN  "
      ]
     },
     "execution_count": 4,
     "metadata": {},
     "output_type": "execute_result"
    }
   ],
   "source": [
    "df = pd.read_excel(\"Folkhalsomyndigheten_Covid19_Vaccine.xlsx\", sheet_name=\"Vaccinerade kommun och ålder\")\n",
    "df.head()\n"
   ]
  },
  {
   "cell_type": "markdown",
   "metadata": {},
   "source": [
    "a) Hur många län finns representerade i datasetet?"
   ]
  },
  {
   "cell_type": "code",
   "execution_count": 265,
   "metadata": {},
   "outputs": [
    {
     "name": "stdout",
     "output_type": "stream",
     "text": [
      "Det finns 21 län representerad i datasetet\n"
     ]
    }
   ],
   "source": [
    "antal_län = df[\"Län_namn\"].nunique()\n",
    "print(f\"Det finns {antal_län} län representerad i datasetet\")"
   ]
  },
  {
   "cell_type": "markdown",
   "metadata": {},
   "source": [
    "b) Hur många kommuner finns representerade i datasetet?"
   ]
  },
  {
   "cell_type": "code",
   "execution_count": 444,
   "metadata": {},
   "outputs": [
    {
     "name": "stdout",
     "output_type": "stream",
     "text": [
      "Det finns totalt 290 kommuner presenterad i datasetet\n"
     ]
    }
   ],
   "source": [
    "antal_komun = df[\"Kommun_namn\"].nunique()\n",
    "print(f\"Det finns totalt {antal_komun} kommuner presenterad i datasetet\")\n",
    "\n"
   ]
  },
  {
   "cell_type": "markdown",
   "metadata": {},
   "source": [
    "c) Hur stor är befolkningen som är representerad i datasetet?\n"
   ]
  },
  {
   "cell_type": "code",
   "execution_count": null,
   "metadata": {},
   "outputs": [],
   "source": [
    "total_befolkning = df[\"Befolkning\"].sum()\n",
    "print(f\"Total befolkning i datasetet: {total_befolkning}\")\n",
    "\n"
   ]
  },
  {
   "cell_type": "markdown",
   "metadata": {},
   "source": [
    "d) Beräkna hur många barn under 18 år det finns i Sverige baserat på det här datasetet. Du får leta upp\n",
    "statistik på hur stor totala befolkningen är i Sverige"
   ]
  },
  {
   "cell_type": "code",
   "execution_count": 23,
   "metadata": {},
   "outputs": [
    {
     "name": "stdout",
     "output_type": "stream",
     "text": [
      "Antal barn under 18 år i Sverige är: 745370\n",
      "Andelen barn under 18 år i förhållande till den totala befolkningen är: 7.08 %\n"
     ]
    }
   ],
   "source": [
    "sverige_befolkning_totalt = 10521556\n",
    "\n",
    "ålder_under_18= df[df['Ålder'].isin(['12-15', '16-17'])]\n",
    "\n",
    "\n",
    "befolkning_under_18 = ålder_under_18['Befolkning'].sum()\n",
    "\n",
    "\n",
    "andel_barn_under_18 = (befolkning_under_18 / sverige_befolkning_totalt) * 100  \n",
    "\n",
    "print(\"Antal barn under 18 år i Sverige är:\", befolkning_under_18)\n",
    "print(\"Andelen barn under 18 år i förhållande till den totala befolkningen är:\", round(andel_barn_under_18, 2), \"%\")\n",
    "\n",
    "#Källa: https://www.scb.se/hitta-statistik/sverige-i-siffror/manniskorna-i-sverige/sveriges-befolkning/\n"
   ]
  },
  {
   "cell_type": "code",
   "execution_count": null,
   "metadata": {},
   "outputs": [],
   "source": [
    "df.groupby([\"Ålder\"])[\"Befolkning\"].sum()"
   ]
  },
  {
   "cell_type": "markdown",
   "metadata": {},
   "source": [
    "e) Rita ett diagram som visar på åldersfördelningen av Sveriges befolkning"
   ]
  },
  {
   "cell_type": "code",
   "execution_count": null,
   "metadata": {},
   "outputs": [],
   "source": [
    "grupperad_data = df.groupby(\"Ålder\")[\"Befolkning\"].sum().reset_index()\n",
    "\n",
    "fig = px.bar(grupperad_data, x=\"Ålder\", y=\"Befolkning\", title=f\"Åldersfördelning av Sveriges Befolkning\")\n",
    "fig.show()\n",
    "\n",
    "\n",
    "\n",
    "\n"
   ]
  },
  {
   "cell_type": "markdown",
   "metadata": {},
   "source": [
    "f) Rita stapeldiagram för andel med minst 1 dos per län, andel två doser per län och andel tre doser per\n",
    "län\n"
   ]
  },
  {
   "cell_type": "code",
   "execution_count": null,
   "metadata": {},
   "outputs": [],
   "source": [
    "\n",
    "\n",
    "län_gruppering = df.groupby(\"Län_namn\")\n",
    "andel_1 = län_gruppering[\"Andel minst 1 dos\"].mean() * 100\n",
    "andel_1_df = andel_1.reset_index()\n",
    "\n",
    "df[\"Andel 2 doser\"] = df[\"Andel minst 2 doser\"] - df[\"Andel 3 doser\"]\n",
    "andel_2 = län_gruppering[\"Andel 2 doser\"].mean() * 100\n",
    "andel_2_df = andel_2.reset_index()\n",
    "\n",
    "\n",
    "andel_3 = län_gruppering[\"Andel 3 doser\"].mean() * 100\n",
    "andel_3_df = andel_3.reset_index()\n",
    "\n",
    "\n",
    "fig = go.Figure()\n",
    "\n",
    "fig.add_trace(go.Bar(\n",
    "    x=andel_1_df[\"Län_namn\"], \n",
    "    y=andel_1_df[\"Andel minst 1 dos\"],\n",
    "    name='Minst 1 dos'\n",
    "))\n",
    "\n",
    "fig.add_trace(go.Bar(\n",
    "    x=andel_2_df[\"Län_namn\"], \n",
    "    y=andel_2_df[\"Andel 2 doser\"],\n",
    "    name='Andel 2 doser'\n",
    "))\n",
    "\n",
    "fig.add_trace(go.Bar(\n",
    "    x=andel_3_df[\"Län_namn\"], \n",
    "    y=andel_3_df[\"Andel 3 doser\"],\n",
    "    name='Andel 3 doser'\n",
    "))\n",
    "\n",
    "fig.update_layout(\n",
    "    barmode='group',  \n",
    "    title='Andel doser per län',\n",
    "    xaxis_title='Län',\n",
    "    yaxis_title='Andel doser (%)'\n",
    ")\n",
    "fig.write_html(\"Visualiseringar/plotly_graf.html\")\n",
    "fig.show()\n",
    "\n",
    "\n",
    "\n"
   ]
  },
  {
   "cell_type": "markdown",
   "metadata": {},
   "source": [
    "g) Tag Västra Götalands län och Stockholms län och rita diagram över andelen vaccinerade med minst 1 dos,\n",
    "två doser, tre doser och fyra doser."
   ]
  },
  {
   "cell_type": "code",
   "execution_count": null,
   "metadata": {},
   "outputs": [],
   "source": [
    "\n",
    "\n",
    "län_gruppering = df[[\"Län_namn\", \"Andel minst 1 dos\", \"Andel 2 doser\", \"Andel 3 doser\", \"Andel 4 doser\"]].groupby(\"Län_namn\")\n",
    "\n",
    "länner = [\"Västra Götalands län\", \"Stockholms län\"]\n",
    "län_query = df.query(\"Län_namn.isin(@länner)\")\n",
    "län_df = län_query[[\"Län_namn\", \"Andel minst 1 dos\", \"Andel 2 doser\", \"Andel 3 doser\", \"Andel 4 doser\"]]\n",
    "länner_mean = län_df.groupby(\"Län_namn\").mean() * 100\n",
    "län_df = länner_mean.reset_index()\n",
    "\n",
    "county_df = pd.melt(län_df, id_vars=\"Län_namn\", var_name=\"Doser\", value_vars=['Andel minst 1 dos', 'Andel 2 doser', 'Andel 3 doser', 'Andel 4 doser'])\n",
    "\n",
    "fig = px.bar(county_df, x='Län_namn', y='value', color='Doser', barmode='group', \n",
    "             labels=dict(value=\"Procent\", Län_namn=\"Län\"), template='none',\n",
    "             color_discrete_sequence=px.colors.qualitative.Set3)  \n",
    "\n",
    "fig.write_html(\"Visualiseringar/plotly_graf.html\")\n",
    "\n",
    "fig.show()\n",
    "\n",
    "\n",
    "\n",
    "\n",
    "\n",
    " \n",
    "\n",
    "\n",
    "\n"
   ]
  },
  {
   "cell_type": "markdown",
   "metadata": {},
   "source": [
    "# Uppgift 3-KPI"
   ]
  },
  {
   "cell_type": "markdown",
   "metadata": {},
   "source": [
    "KPI 1: Identifierar dagen med flest intensiv vårdade. Det är ett viktigt mått på belastningen på vården och kan ge insikter i vilka perioder under pandemin som krävde störst resurser och vårdkapacitet."
   ]
  },
  {
   "cell_type": "code",
   "execution_count": 57,
   "metadata": {},
   "outputs": [],
   "source": [
    "intensiv_vårdade = pd.read_excel(\"Folkhalsomyndigheten_Covid19.xlsx\", sheet_name=\"Antal intensivvårdade per dag\")"
   ]
  },
  {
   "cell_type": "code",
   "execution_count": null,
   "metadata": {},
   "outputs": [],
   "source": [
    "intensiv_vårdade.head()"
   ]
  },
  {
   "cell_type": "code",
   "execution_count": 80,
   "metadata": {},
   "outputs": [
    {
     "name": "stdout",
     "output_type": "stream",
     "text": [
      "Högsta antal intensivvårdade: 49\n",
      "Datum för högsta intensivvårdade: 2020-04-22 00:00:00\n"
     ]
    }
   ],
   "source": [
    "max_dag = intensiv_vårdade.groupby([\"Datum_vårdstart\"])[\"Antal_intensivvårdade\"].max().reset_index()\n",
    "sorterat = max_dag.sort_values(by='Antal_intensivvårdade', ascending=False)\n",
    "max_intensiv_vård = sorterat.iloc[0]['Antal_intensivvårdade']\n",
    "datum_max = sorterat.iloc[0]['Datum_vårdstart']\n",
    "\n",
    "print(f\"Högsta antal intensivvårdade: {max_intensiv_vård}\")\n",
    "print(f\"Datum för högsta intensivvårdade: {datum_max}\")\n",
    "\n",
    "\n",
    "\n",
    "\n",
    "\n"
   ]
  },
  {
   "cell_type": "markdown",
   "metadata": {},
   "source": [
    "KPI 2: Totalt avlidna per dag. Att analysera antalet avlidna per dag kan ge viktiga insikter i hur allvarlig situationen är och hur den utvecklas över tiden, i denna uppgift kollar jag efter högsta dödsfallet."
   ]
  },
  {
   "cell_type": "code",
   "execution_count": null,
   "metadata": {},
   "outputs": [],
   "source": [
    "avlidna_dag = pd.read_excel(\"Folkhalsomyndigheten_Covid19.xlsx\", sheet_name=\"Antal avlidna per dag\")\n",
    "\n",
    "avlidna_dag.head()\n",
    "\n"
   ]
  },
  {
   "cell_type": "code",
   "execution_count": null,
   "metadata": {},
   "outputs": [],
   "source": [
    "resultat = avlidna_dag.groupby(\"Datum_avliden\")[\"Antal_avlidna\"].max()\n",
    "max_index = resultat.idxmax()\n",
    "\n",
    "print(f\"Högsta antal avlidna: {resultat[max_index]} på datum: {max_index}\")\n",
    "\n",
    "\n",
    "\n",
    "\n",
    "\n",
    "\n"
   ]
  },
  {
   "cell_type": "markdown",
   "metadata": {},
   "source": [
    "KPI 3: Totalt antal avlidna per region. Kollar efter vilken region som som var mest drabbad och vilken som var minst drabbad. Det ger en tydlig indikation på pandemins effekter på olika geografiska områden och kan vara väsentlig för att förstå spridningen av sjukdomen."
   ]
  },
  {
   "cell_type": "code",
   "execution_count": 100,
   "metadata": {},
   "outputs": [],
   "source": [
    "avlidna_region = pd.read_excel(\"Folkhalsomyndigheten_Covid19.xlsx\", sheet_name=\"Totalt antal per region\")"
   ]
  },
  {
   "cell_type": "code",
   "execution_count": null,
   "metadata": {},
   "outputs": [],
   "source": [
    "avlidna_region.head()"
   ]
  },
  {
   "cell_type": "code",
   "execution_count": null,
   "metadata": {},
   "outputs": [],
   "source": [
    "total_avlidna_region = avlidna_region.groupby('Region')['Totalt_antal_avlidna'].sum()\n",
    "\n",
    "region_flest_avlidna = total_avlidna_region.idxmax()\n",
    "max_avlidna = total_avlidna_region.max()\n",
    "\n",
    "region_minst_avlidna = total_avlidna_region.idxmin()\n",
    "min_avlidna = total_avlidna_region.min()\n",
    "\n",
    "procentuell_skillnad = ((max_avlidna - min_avlidna) / min_avlidna) * 100\n",
    "\n",
    "print(f\"Region med flest avlidna: {region_flest_avlidna} ({max_avlidna} avlidna)\")\n",
    "print(f\"Region med minst avlidna: {region_minst_avlidna} ({min_avlidna} avlidna)\")\n",
    "print(f\"Procentuell skillnad: {procentuell_skillnad:.2f}%\")\n"
   ]
  }
 ],
 "metadata": {
  "kernelspec": {
   "display_name": "Python 3",
   "language": "python",
   "name": "python3"
  },
  "language_info": {
   "codemirror_mode": {
    "name": "ipython",
    "version": 3
   },
   "file_extension": ".py",
   "mimetype": "text/x-python",
   "name": "python",
   "nbconvert_exporter": "python",
   "pygments_lexer": "ipython3",
   "version": "3.11.5"
  }
 },
 "nbformat": 4,
 "nbformat_minor": 2
}
